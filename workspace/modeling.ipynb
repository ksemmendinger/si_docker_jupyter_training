{
 "cells": [
  {
   "cell_type": "code",
   "execution_count": null,
   "metadata": {},
   "outputs": [],
   "source": [
    "from __future__ import print_function\n",
    "from __future__ import absolute_import\n",
    "\n",
    "%matplotlib inline\n",
    "\n",
    "import pandas as pd\n",
    "import numpy\n",
    "import matplotlib.pyplot as plt"
   ]
  },
  {
   "cell_type": "markdown",
   "metadata": {},
   "source": [
    "# Modeling Exercise\n",
    "\n",
    "This exercise is designed to both help you to learn `git` and `github` as well as some concepts from modeling that will be important.  If you need some ideas take a look at the [course notes](http://github.com/mandli/intro-numerical-methods)."
   ]
  },
  {
   "cell_type": "markdown",
   "metadata": {},
   "source": [
    "## Reading Data\n",
    "\n",
    "Take the data you read in from `get_hydro_data.ipynb` and write a function that read in the stream flow data and precip and returns the data"
   ]
  },
  {
   "cell_type": "code",
   "execution_count": null,
   "metadata": {},
   "outputs": [],
   "source": [
    "def read_streamflow_data(path):\n",
    "    data = pd.read_csv(path, header = 0,\n",
    "                      usecols = ['dateTime', 'X_00060_00000'],\n",
    "                      parse_dates = ['dateTime'],\n",
    "                      dtype = {'X_00060_00000':float}, )\n",
    "    return data\n",
    "\n",
    "streamflow = read_streamflow_data(\"./temp_data/streamflow_data.csv\")\n",
    "print(streamflow)\n",
    "\n",
    "def read_precip_data(path):\n",
    "    data = pd.read_csv(path, header = 0,\n",
    "                      usecols = ['time_stamps', '15551491'],\n",
    "                      parse_dates = ['time_stamps'],\n",
    "                      dtype = {'15551491':float}, )\n",
    "    return data\n",
    "\n",
    "precipitation = read_precip_data(\"./temp_data/precip_data.csv\")\n",
    "# print(precipitation)"
   ]
  },
  {
   "cell_type": "markdown",
   "metadata": {},
   "source": [
    "## Plot the Data\n",
    "\n",
    "Now write a function that plots the data you read in from above."
   ]
  },
  {
   "cell_type": "code",
   "execution_count": null,
   "metadata": {},
   "outputs": [],
   "source": [
    "#def plot_streamflow_data(x, y):\n",
    "    #pass\n",
    "\n",
    "nodays = numpy.arange(1, 2436)\n",
    "sf = streamflow.values[:, 1]\n",
    "print(nodays)\n",
    "plt.plot(nodays, sf, \".\") # plot from index of days\n",
    "# plt.plot(streamflow.values[:, 0], streamflow.values[:, 1], \".\") # plot of actual dates\n"
   ]
  },
  {
   "cell_type": "markdown",
   "metadata": {},
   "source": [
    "## Make a Model\n",
    "\n",
    "Write a function that takes the data from above and fits a curve to it.  Justify your approach to this problem as well."
   ]
  },
  {
   "cell_type": "markdown",
   "metadata": {},
   "source": []
  },
  {
   "cell_type": "code",
   "execution_count": null,
   "metadata": {},
   "outputs": [],
   "source": [
    "numpy.polyfit(nodays, sf, 4)"
   ]
  },
  {
   "cell_type": "markdown",
   "metadata": {},
   "source": [
    "## Pull It All Together\n",
    "\n",
    "Use all three functions above and make a prediction where there is no data.  Think about where your prediction may be valid or invalid.  Make sure to mention this in your `doc-string`."
   ]
  },
  {
   "cell_type": "code",
   "execution_count": null,
   "metadata": {},
   "outputs": [],
   "source": [
    "def streamflow_prediction(x, y):\n",
    "    \"\"\"\"\"\"\n",
    "    \n",
    "    pass"
   ]
  },
  {
   "cell_type": "code",
   "execution_count": null,
   "metadata": {},
   "outputs": [],
   "source": []
  }
 ],
 "metadata": {
  "kernelspec": {
   "display_name": "Python 3",
   "language": "python",
   "name": "python3"
  },
  "language_info": {
   "codemirror_mode": {
    "name": "ipython",
    "version": 3
   },
   "file_extension": ".py",
   "mimetype": "text/x-python",
   "name": "python",
   "nbconvert_exporter": "python",
   "pygments_lexer": "ipython3",
   "version": "3.7.3"
  }
 },
 "nbformat": 4,
 "nbformat_minor": 2
}
